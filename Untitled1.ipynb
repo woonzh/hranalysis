{
 "cells": [
  {
   "cell_type": "markdown",
   "metadata": {},
   "source": [
    "# Assesment-machine learning"
   ]
  },
  {
   "cell_type": "markdown",
   "metadata": {},
   "source": [
    "I will follow the following steps to clean, analyse and conduct simple machine learning on this dataset\n",
    "\n",
    "Based on the dataset, i assume attrition is the dependent variable which we are looking to revolve the analysis around.\n",
    "\n",
    "1) Data cleaning\n",
    "    a) Remove or replace cells with Nan or blank values (in this case, there is none)\n",
    "    b) Remove columns (variables) which are low in correlation to the variable \"Attrition\"\n",
    "        - Convert categorical variables to numerical variables\n",
    "        - Get the correlation matric between all variables\n",
    "        - Remove all columns with a corr below threshold (0.5 in this case)\n",
    "\n",
    "2) Graphing\n",
    "The purpose of this section is to categorise and cluster the data within each variable to better identify the correlation they have individually with \"Attrition\"\n",
    "\n",
    "    a) Plot graphs for numerical variables\n",
    "        - Classify the data to a max of 10 classes\n",
    "        - Generate the strata for each class\n",
    "        - Assign each data point to a class based on the strata\n",
    "        - Aggregate them based on their assigned classes\n",
    "        - Generate a bar graph (if possible) and scatter plot to show the correlation\n",
    "    b) Plot graphs for categorical variables\n",
    "        - Aggregate them based on their categories\n",
    "        - Generate a bar graph (if possible) and scatter plot to show the correlation\n",
    "Interesting insights could be retrieved from these plots. For e.g., we could realise that employees between 18 to 30 have a high probability of quiting or that sales department have a attrition rate and we know where to focus on.\n",
    "\n",
    "    c) Plot a clustered graph of the correlation matrix\n",
    "Purpose of this is to cluster independent variables based on their correlation.\n",
    "Upon deriving the correlation ranking based on the \"Attrition\" attribute, we will know which variable affects \"attrition\" the most. However, the variables could be highly correlated to each other as well. From a HR perspective, if i realise that \"total working years\" has a high correlation with \"years with manager\". Should i then realise that the longer the employee has stayed, the lower probability he will quit, i could try to keep him with the same manager instead.\n",
    "    \n",
    "    \n",
    "3) Machine learning\n",
    "    a) Split the datasets for training and testing\n",
    "    b) Conduct logistics regression on the dataset\n",
    "    c) Conduct prediction using test dataset [assignment based on threshold level)\n",
    "    d) Retrieve results of prediction\n"
   ]
  }
 ],
 "metadata": {
  "kernelspec": {
   "display_name": "Python 3",
   "language": "python",
   "name": "python3"
  },
  "language_info": {
   "codemirror_mode": {
    "name": "ipython",
    "version": 3
   },
   "file_extension": ".py",
   "mimetype": "text/x-python",
   "name": "python",
   "nbconvert_exporter": "python",
   "pygments_lexer": "ipython3",
   "version": "3.6.6"
  }
 },
 "nbformat": 4,
 "nbformat_minor": 2
}
